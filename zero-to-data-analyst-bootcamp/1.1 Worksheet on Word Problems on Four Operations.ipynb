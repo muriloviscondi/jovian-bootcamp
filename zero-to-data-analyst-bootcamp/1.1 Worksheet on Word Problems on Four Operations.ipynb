{
 "cells": [
  {
   "cell_type": "markdown",
   "id": "7948a287",
   "metadata": {},
   "source": [
    "##### 1. The population of a town is 198568. Out of them 45312 are men and 35678 are women. Find the number of children in the town."
   ]
  },
  {
   "cell_type": "code",
   "execution_count": 3,
   "id": "ade0cdb4",
   "metadata": {},
   "outputs": [
    {
     "name": "stdout",
     "output_type": "stream",
     "text": [
      "117578 children\n"
     ]
    }
   ],
   "source": [
    "population_town = 198568\n",
    "man_population = 45312\n",
    "woman_population = 35678\n",
    "\n",
    "total_adult_population = man_population + woman_population\n",
    "total_children_population = population_town - total_adult_population\n",
    "\n",
    "print(f'{total_children_population} children')"
   ]
  },
  {
   "cell_type": "markdown",
   "id": "62e3d173",
   "metadata": {},
   "source": [
    "##### 2. A shopkeeper has 2425 boxes of 24 pencils each. How many pencils do all the boxes have in all?"
   ]
  },
  {
   "cell_type": "code",
   "execution_count": 6,
   "id": "55910759",
   "metadata": {},
   "outputs": [
    {
     "name": "stdout",
     "output_type": "stream",
     "text": [
      "58200 pencils\n"
     ]
    }
   ],
   "source": [
    "boxes = 2425\n",
    "pencils_each_boxes = 24\n",
    "\n",
    "total_pencils = boxes * pencils_each_boxes\n",
    "\n",
    "print(f'{total_pencils} pencils')"
   ]
  },
  {
   "cell_type": "markdown",
   "id": "8d7441b1",
   "metadata": {},
   "source": [
    "##### 3. Linda bought a coat for 2265 and a saree for 2150. She gave 5000 to the shopkeeper. How much money did the shopkeeper return to her?"
   ]
  },
  {
   "cell_type": "code",
   "execution_count": 9,
   "id": "4e612283",
   "metadata": {},
   "outputs": [
    {
     "name": "stdout",
     "output_type": "stream",
     "text": [
      "Return $585\n"
     ]
    }
   ],
   "source": [
    "coat = 2265\n",
    "saree = 2150\n",
    "money = 5000\n",
    "\n",
    "total_buy = coat + saree\n",
    "rest_money = money - total_buy\n",
    "\n",
    "print(f'Return ${rest_money}')"
   ]
  },
  {
   "cell_type": "markdown",
   "id": "e40da608",
   "metadata": {},
   "source": [
    "##### 4. The cost of 21 TV sets is 95844. Find the cost of one TV set."
   ]
  },
  {
   "cell_type": "code",
   "execution_count": 11,
   "id": "4230a966",
   "metadata": {},
   "outputs": [
    {
     "name": "stdout",
     "output_type": "stream",
     "text": [
      "One TV = $4564.00\n"
     ]
    }
   ],
   "source": [
    "total_tv = 21\n",
    "value_total_tv = 95844\n",
    "\n",
    "one_tv = value_total_tv / total_tv\n",
    "\n",
    "print(f'One TV = ${one_tv:.2f}')"
   ]
  },
  {
   "cell_type": "markdown",
   "id": "42d176e5",
   "metadata": {},
   "source": [
    "##### 5. A factory produces 24532 bulbs in a month. What is its annual production?"
   ]
  },
  {
   "cell_type": "code",
   "execution_count": 13,
   "id": "d8dbcca5",
   "metadata": {},
   "outputs": [
    {
     "name": "stdout",
     "output_type": "stream",
     "text": [
      "Annual production = 294384 bulbs\n"
     ]
    }
   ],
   "source": [
    "bulbs_month = 24532\n",
    "\n",
    "bulbs_year = bulbs_month * 12\n",
    "\n",
    "print(f'Annual production = {bulbs_year:.0f} bulbs')"
   ]
  },
  {
   "cell_type": "markdown",
   "id": "9a0316d7",
   "metadata": {},
   "source": [
    "##### 6. There are 145968 bags of sugar, 236487 bags of wheat and some bags of rice in a godown. It the total number of bags in the godown is 450000, find the number of bags of rice."
   ]
  },
  {
   "cell_type": "code",
   "execution_count": 15,
   "id": "27c6dcb6",
   "metadata": {},
   "outputs": [
    {
     "name": "stdout",
     "output_type": "stream",
     "text": [
      "67545 bags of rice\n"
     ]
    }
   ],
   "source": [
    "bags_of_sugar = 145968\n",
    "bags_of_weat = 236487\n",
    "total_bags = 450000\n",
    "\n",
    "bags_of_rice = total_bags - (bags_of_sugar + bags_of_weat)\n",
    "\n",
    "print(f'{bags_of_rice:.0f} bags of rice')"
   ]
  },
  {
   "cell_type": "markdown",
   "id": "4e403b28",
   "metadata": {},
   "source": [
    "##### 7. A factory manufactured 483685 toys in three weeks. The production in first week was 146345 toys and in second week 138152 toys. Find the production in the third week. "
   ]
  },
  {
   "cell_type": "code",
   "execution_count": 16,
   "id": "4f07d141",
   "metadata": {},
   "outputs": [
    {
     "name": "stdout",
     "output_type": "stream",
     "text": [
      "199188 toys\n"
     ]
    }
   ],
   "source": [
    "toys_three_weeks = 483685\n",
    "toys_first_week = 146345\n",
    "toys_second_week = 138152\n",
    "\n",
    "toys_third_week = toys_three_weeks - (toys_first_week + toys_second_week)\n",
    "\n",
    "print(f'{toys_third_week} toys')"
   ]
  },
  {
   "cell_type": "markdown",
   "id": "106ce765",
   "metadata": {},
   "source": [
    "##### 8. The cost of a sofa set is 9372. How much will 124 such sofa sets cost?"
   ]
  },
  {
   "cell_type": "code",
   "execution_count": 17,
   "id": "27b65980",
   "metadata": {},
   "outputs": [
    {
     "name": "stdout",
     "output_type": "stream",
     "text": [
      "$1162128\n"
     ]
    }
   ],
   "source": [
    "value_sofa = 9372\n",
    "\n",
    "total_sofas = value_sofa * 124\n",
    "\n",
    "print(f'${total_sofas}')"
   ]
  },
  {
   "cell_type": "markdown",
   "id": "23b34970",
   "metadata": {},
   "source": [
    "###### 9. There are 86 rooms in a school. 4386 students study there. Equal number of students sits in each room?"
   ]
  },
  {
   "cell_type": "code",
   "execution_count": 22,
   "id": "d2ec3aa0",
   "metadata": {},
   "outputs": [
    {
     "name": "stdout",
     "output_type": "stream",
     "text": [
      "51 each room\n"
     ]
    }
   ],
   "source": [
    "rooms = 86\n",
    "students = 4386\n",
    "\n",
    "distribuition_students = students / rooms\n",
    "\n",
    "print(f'{distribuition_students:.0f} each room')"
   ]
  },
  {
   "cell_type": "markdown",
   "id": "abfcbbe9",
   "metadata": {},
   "source": [
    "##### 10. 1575 students of a school want to go Agra by bus. If one bus can carry 75 students, how many buses are required to carry all the students?"
   ]
  },
  {
   "cell_type": "code",
   "execution_count": 24,
   "id": "47553610",
   "metadata": {},
   "outputs": [
    {
     "name": "stdout",
     "output_type": "stream",
     "text": [
      "21 necessary buses\n"
     ]
    }
   ],
   "source": [
    "students = 1575\n",
    "bus_carry = 75\n",
    "\n",
    "bus_required = students / bus_carry\n",
    "\n",
    "print(f'{bus_required:.0f} necessary buses')"
   ]
  },
  {
   "cell_type": "markdown",
   "id": "dc6cc0f9",
   "metadata": {},
   "source": [
    "##### 11. The cost of a radio set is 1475. What is the cost of 35 such radio sets?"
   ]
  },
  {
   "cell_type": "code",
   "execution_count": 25,
   "id": "a62b690b",
   "metadata": {},
   "outputs": [
    {
     "name": "stdout",
     "output_type": "stream",
     "text": [
      "$51625 35 radios\n"
     ]
    }
   ],
   "source": [
    "cost_radio = 1475\n",
    "\n",
    "total_radios = cost_radio * 35\n",
    "\n",
    "print(f'${total_radios} 35 radios')"
   ]
  },
  {
   "cell_type": "markdown",
   "id": "e6efe073",
   "metadata": {},
   "source": [
    "##### 12. In an election, 52496 people voted for Ron, 44929 people for Jhon and 36824 people for Mike in a town. If everyone voted in the town, what is the total number of voters?"
   ]
  },
  {
   "cell_type": "code",
   "execution_count": 26,
   "id": "70b3fedc",
   "metadata": {},
   "outputs": [
    {
     "name": "stdout",
     "output_type": "stream",
     "text": [
      "134249 total number of voters\n"
     ]
    }
   ],
   "source": [
    "ron_votes = 52496\n",
    "jhon_votes = 44929\n",
    "mike_votes = 36824\n",
    "\n",
    "total_votes = ron_votes + jhon_votes + mike_votes\n",
    "\n",
    "print(f'{total_votes} total number of voters')"
   ]
  },
  {
   "cell_type": "markdown",
   "id": "b499a0f7",
   "metadata": {},
   "source": [
    "##### 13. Maria bought 96 toys priced equally for 12960. The amount of 1015 is still left with her. Find the cost of each toy and the amount she had."
   ]
  },
  {
   "cell_type": "code",
   "execution_count": 27,
   "id": "f8d251ee",
   "metadata": {},
   "outputs": [
    {
     "name": "stdout",
     "output_type": "stream",
     "text": [
      "$135.00 cost each toy\n",
      "$13975.00 amount Maria\n"
     ]
    }
   ],
   "source": [
    "total_toys = 96\n",
    "cost_total_toys = 12960\n",
    "money_rest = 1015\n",
    "\n",
    "cost_each_toy = cost_total_toys / total_toys\n",
    "maria_money = cost_total_toys + money_rest\n",
    "\n",
    "print(f'${cost_each_toy:.2f} cost each toy')\n",
    "print(f'${maria_money:.2f} amount Maria')"
   ]
  },
  {
   "cell_type": "code",
   "execution_count": null,
   "id": "875158cb",
   "metadata": {},
   "outputs": [],
   "source": []
  }
 ],
 "metadata": {
  "kernelspec": {
   "display_name": "Python 3 (ipykernel)",
   "language": "python",
   "name": "python3"
  },
  "language_info": {
   "codemirror_mode": {
    "name": "ipython",
    "version": 3
   },
   "file_extension": ".py",
   "mimetype": "text/x-python",
   "name": "python",
   "nbconvert_exporter": "python",
   "pygments_lexer": "ipython3",
   "version": "3.9.13"
  }
 },
 "nbformat": 4,
 "nbformat_minor": 5
}
